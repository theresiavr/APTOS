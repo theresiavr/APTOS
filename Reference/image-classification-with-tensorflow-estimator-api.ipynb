{
 "cells": [
  {
   "cell_type": "markdown",
   "metadata": {},
   "source": [
    "# Image classification with Tensorflow Estimator API\n",
    "This kernel uses the TensorFlow high-level Estimator API. The model is built using transfer learning with a model from the TensorFlow Hub."
   ]
  },
  {
   "cell_type": "markdown",
   "metadata": {
    "colab_type": "text",
    "id": "9jqdFVt9dS7_"
   },
   "source": [
    "# Kaggle set-up"
   ]
  },
  {
   "cell_type": "code",
   "execution_count": 1,
   "metadata": {
    "colab": {
     "base_uri": "https://localhost:8080/",
     "height": 224
    },
    "colab_type": "code",
    "executionInfo": {
     "elapsed": 7753,
     "status": "ok",
     "timestamp": 1585487979687,
     "user": {
      "displayName": "Theresia V. Rampisela",
      "photoUrl": "",
      "userId": "17442261259428311841"
     },
     "user_tz": -420
    },
    "id": "QBOrbZJZXdOK",
    "outputId": "e738489f-75f0-4349-da7a-164ea1083ce8"
   },
   "outputs": [
    {
     "name": "stdout",
     "output_type": "stream",
     "text": [
      "Requirement already satisfied: kaggle in /usr/local/lib/python3.6/dist-packages (1.5.6)\n",
      "Requirement already satisfied: python-dateutil in /usr/local/lib/python3.6/dist-packages (from kaggle) (2.8.1)\n",
      "Requirement already satisfied: python-slugify in /usr/local/lib/python3.6/dist-packages (from kaggle) (4.0.0)\n",
      "Requirement already satisfied: certifi in /usr/local/lib/python3.6/dist-packages (from kaggle) (2019.11.28)\n",
      "Requirement already satisfied: tqdm in /usr/local/lib/python3.6/dist-packages (from kaggle) (4.38.0)\n",
      "Requirement already satisfied: requests in /usr/local/lib/python3.6/dist-packages (from kaggle) (2.21.0)\n",
      "Requirement already satisfied: urllib3<1.25,>=1.21.1 in /usr/local/lib/python3.6/dist-packages (from kaggle) (1.24.3)\n",
      "Requirement already satisfied: six>=1.10 in /usr/local/lib/python3.6/dist-packages (from kaggle) (1.12.0)\n",
      "Requirement already satisfied: text-unidecode>=1.3 in /usr/local/lib/python3.6/dist-packages (from python-slugify->kaggle) (1.3)\n",
      "Requirement already satisfied: chardet<3.1.0,>=3.0.2 in /usr/local/lib/python3.6/dist-packages (from requests->kaggle) (3.0.4)\n",
      "Requirement already satisfied: idna<2.9,>=2.5 in /usr/local/lib/python3.6/dist-packages (from requests->kaggle) (2.8)\n"
     ]
    }
   ],
   "source": [
    "!pip install kaggle"
   ]
  },
  {
   "cell_type": "code",
   "execution_count": 0,
   "metadata": {
    "colab": {},
    "colab_type": "code",
    "id": "dyRyAT0JZo8m"
   },
   "outputs": [],
   "source": [
    "import os\n",
    "os.environ['KAGGLE_USERNAME'] = \"there25sia\" # username from the json file\n",
    "os.environ['KAGGLE_KEY'] = \"\" # key from the json file"
   ]
  },
  {
   "cell_type": "code",
   "execution_count": 5,
   "metadata": {
    "colab": {
     "base_uri": "https://localhost:8080/",
     "height": 1000
    },
    "colab_type": "code",
    "executionInfo": {
     "elapsed": 44958,
     "status": "ok",
     "timestamp": 1585488050255,
     "user": {
      "displayName": "Theresia V. Rampisela",
      "photoUrl": "",
      "userId": "17442261259428311841"
     },
     "user_tz": -420
    },
    "id": "NaLIfQs8Y-K0",
    "outputId": "3a70c69c-3bbc-48a7-a5de-457ad4fa0e74"
   },
   "outputs": [
    {
     "name": "stdout",
     "output_type": "stream",
     "text": [
      "Warning: Looks like you're using an outdated API Version, please consider updating (server 1.5.6 / client 1.5.4)\n",
      "Downloading 003f0afdcd15.png to /content\n",
      "  0% 0.00/207k [00:00<?, ?B/s]\n",
      "100% 207k/207k [00:00<00:00, 76.1MB/s]\n",
      "Downloading 0229c0a80d42.png to /content\n",
      "  0% 0.00/219k [00:00<?, ?B/s]\n",
      "100% 219k/219k [00:00<00:00, 139MB/s]\n",
      "Downloading 0268f4382c67.png to /content\n",
      "  0% 0.00/223k [00:00<?, ?B/s]\n",
      "100% 223k/223k [00:00<00:00, 67.1MB/s]\n",
      "Downloading 0111b949947e.png to /content\n",
      "  0% 0.00/926k [00:00<?, ?B/s]\n",
      "100% 926k/926k [00:00<00:00, 61.3MB/s]\n",
      "Downloading 020921b796d5.png to /content\n",
      "  0% 0.00/226k [00:00<?, ?B/s]\n",
      "100% 226k/226k [00:00<00:00, 203MB/s]\n",
      "Downloading 0005cfc8afb6.png to /content\n",
      "  0% 0.00/230k [00:00<?, ?B/s]\n",
      "100% 230k/230k [00:00<00:00, 71.2MB/s]\n",
      "Downloading 010d915e229a.png.zip to /content\n",
      "  0% 0.00/2.14M [00:00<?, ?B/s]\n",
      "100% 2.14M/2.14M [00:00<00:00, 147MB/s]\n",
      "Downloading 020f6983114d.png.zip to /content\n",
      "  0% 0.00/2.00M [00:00<?, ?B/s]\n",
      "100% 2.00M/2.00M [00:00<00:00, 136MB/s]\n",
      "Downloading 01499815e469.png to /content\n",
      "  0% 0.00/224k [00:00<?, ?B/s]\n",
      "100% 224k/224k [00:00<00:00, 75.6MB/s]\n",
      "Downloading 00836aaacf06.png to /content\n",
      "  0% 0.00/229k [00:00<?, ?B/s]\n",
      "100% 229k/229k [00:00<00:00, 71.3MB/s]\n",
      "Downloading 0299d97f31f7.png to /content\n",
      "  0% 0.00/982k [00:00<?, ?B/s]\n",
      "100% 982k/982k [00:00<00:00, 63.8MB/s]\n",
      "Downloading 009c019a7309.png to /content\n",
      "  0% 0.00/221k [00:00<?, ?B/s]\n",
      "100% 221k/221k [00:00<00:00, 69.4MB/s]\n",
      "Downloading 006efc72b638.png to /content\n",
      "  0% 0.00/198k [00:00<?, ?B/s]\n",
      "100% 198k/198k [00:00<00:00, 62.3MB/s]\n",
      "Downloading 01c31b10ab99.png.zip to /content\n",
      "  0% 0.00/2.08M [00:00<?, ?B/s]\n",
      "100% 2.08M/2.08M [00:00<00:00, 69.0MB/s]\n",
      "Downloading 01e4d86b3a30.png to /content\n",
      "  0% 0.00/232k [00:00<?, ?B/s]\n",
      "100% 232k/232k [00:00<00:00, 186MB/s]\n",
      "Downloading 01c5ba195207.png to /content\n",
      "  0% 0.00/207k [00:00<?, ?B/s]\n",
      "100% 207k/207k [00:00<00:00, 70.8MB/s]\n",
      "Downloading 009245722fa4.png to /content\n",
      "  0% 0.00/241k [00:00<?, ?B/s]\n",
      "100% 241k/241k [00:00<00:00, 76.1MB/s]\n",
      "Downloading 024d0a225db1.png to /content\n",
      "  0% 0.00/209k [00:00<?, ?B/s]\n",
      "100% 209k/209k [00:00<00:00, 64.0MB/s]\n",
      "Downloading 021c207614d6.png.zip to /content\n",
      "  0% 0.00/5.01M [00:00<?, ?B/s]\n",
      "100% 5.01M/5.01M [00:00<00:00, 80.5MB/s]\n",
      "Downloading 0167076e7089.png to /content\n",
      "  0% 0.00/222k [00:00<?, ?B/s]\n",
      "100% 222k/222k [00:00<00:00, 74.0MB/s]\n",
      "Downloading 00b74780d31d.png.zip to /content\n",
      "100% 4.83M/4.83M [00:00<00:00, 20.2MB/s]\n",
      "\n",
      "Downloading 014508ccb9cb.png to /content\n",
      "  0% 0.00/363k [00:00<?, ?B/s]\n",
      "100% 363k/363k [00:00<00:00, 118MB/s]\n",
      "Downloading 0151781fe50b.png.zip to /content\n",
      "  0% 0.00/1.80M [00:00<?, ?B/s]\n",
      "100% 1.80M/1.80M [00:00<00:00, 123MB/s]\n",
      "Downloading 002c21358ce6.png to /content\n",
      "  0% 0.00/952k [00:00<?, ?B/s]\n",
      "100% 952k/952k [00:00<00:00, 129MB/s]\n",
      "Downloading 005b95c28852.png.zip to /content\n",
      "  0% 0.00/1.73M [00:00<?, ?B/s]\n",
      "100% 1.73M/1.73M [00:00<00:00, 243MB/s]\n",
      "Downloading 000c1434d8d7.png.zip to /content\n",
      "  0% 0.00/3.07M [00:00<?, ?B/s]\n",
      "100% 3.07M/3.07M [00:00<00:00, 219MB/s]\n",
      "Downloading 0161338f53cc.png.zip to /content\n",
      "  0% 0.00/1.31M [00:00<?, ?B/s]\n",
      "100% 1.31M/1.31M [00:00<00:00, 181MB/s]\n",
      "Downloading 001639a390f0.png.zip to /content\n",
      "  0% 0.00/2.16M [00:00<?, ?B/s]\n",
      "100% 2.16M/2.16M [00:00<00:00, 147MB/s]\n",
      "Downloading 00a8624548a9.png.zip to /content\n",
      "  0% 0.00/2.40M [00:00<?, ?B/s]\n",
      "100% 2.40M/2.40M [00:00<00:00, 162MB/s]\n",
      "Downloading 0104b032c141.png.zip to /content\n",
      "  0% 0.00/2.33M [00:00<?, ?B/s]\n",
      "100% 2.33M/2.33M [00:00<00:00, 158MB/s]\n",
      "Downloading 012a242ac6ff.png.zip to /content\n",
      "  0% 0.00/5.86M [00:00<?, ?B/s]\n",
      "100% 5.86M/5.86M [00:00<00:00, 90.7MB/s]\n",
      "Downloading 00e4ddff966a.png.zip to /content\n",
      "  0% 0.00/2.13M [00:00<?, ?B/s]\n",
      "100% 2.13M/2.13M [00:00<00:00, 144MB/s]\n",
      "Downloading 0124dffecf29.png.zip to /content\n",
      "  0% 0.00/3.28M [00:00<?, ?B/s]\n",
      "100% 3.28M/3.28M [00:00<00:00, 222MB/s]\n",
      "Downloading 00f6c1be5a33.png to /content\n",
      "  0% 0.00/920k [00:00<?, ?B/s]\n",
      "100% 920k/920k [00:00<00:00, 127MB/s]\n",
      "Downloading 0024cdab0c1e.png.zip to /content\n",
      "  0% 0.00/1.80M [00:00<?, ?B/s]\n",
      "100% 1.80M/1.80M [00:00<00:00, 251MB/s]\n",
      "Downloading 0083ee8054ee.png.zip to /content\n",
      " 99% 7.00M/7.06M [00:00<00:00, 71.2MB/s]\n",
      "100% 7.06M/7.06M [00:00<00:00, 65.0MB/s]\n",
      "Downloading 0125fbd2e791.png to /content\n",
      "  0% 0.00/881k [00:00<?, ?B/s]\n",
      "100% 881k/881k [00:00<00:00, 123MB/s]\n",
      "Downloading 0097f532ac9f.png.zip to /content\n",
      "  0% 0.00/4.98M [00:00<?, ?B/s]\n",
      "100% 4.98M/4.98M [00:00<00:00, 150MB/s]\n",
      "Downloading 00cc2b75cddd.png to /content\n",
      "  0% 0.00/880k [00:00<?, ?B/s]\n",
      "100% 880k/880k [00:00<00:00, 157MB/s]\n",
      "Downloading 00cb6555d108.png.zip to /content\n",
      "  0% 0.00/1.93M [00:00<?, ?B/s]\n",
      "100% 1.93M/1.93M [00:00<00:00, 130MB/s]\n",
      "Downloading sample_submission.csv to /content\n",
      "  0% 0.00/28.3k [00:00<?, ?B/s]\n",
      "100% 28.3k/28.3k [00:00<00:00, 28.1MB/s]\n",
      "Downloading train.csv to /content\n",
      "  0% 0.00/53.7k [00:00<?, ?B/s]\n",
      "100% 53.7k/53.7k [00:00<00:00, 59.0MB/s]\n",
      "Downloading test.csv to /content\n",
      "  0% 0.00/24.5k [00:00<?, ?B/s]\n",
      "100% 24.5k/24.5k [00:00<00:00, 25.0MB/s]\n"
     ]
    }
   ],
   "source": [
    "!kaggle competitions download -c aptos2019-blindness-detection"
   ]
  },
  {
   "cell_type": "markdown",
   "metadata": {},
   "source": [
    "# "
   ]
  },
  {
   "cell_type": "code",
   "execution_count": 1,
   "metadata": {
    "_cell_guid": "b1076dfc-b9ad-4769-8c92-a6c4dae69d19",
    "_uuid": "8f2839f25d086af736a60e9eeb907d3b93b6e0e5"
   },
   "outputs": [],
   "source": [
    "import os\n",
    "import numpy as np\n",
    "import pandas as pd\n",
    "import tensorflow as tf\n",
    "import tensorflow_hub as hub"
   ]
  },
  {
   "cell_type": "markdown",
   "metadata": {},
   "source": [
    "## Data set\n",
    "The training data set is described in a .csv file with image IDs and labels. There are 5 classes named 0 to 4."
   ]
  },
  {
   "cell_type": "code",
   "execution_count": 2,
   "metadata": {
    "_cell_guid": "79c7e3d0-c299-4dcb-8224-4455121ee9b0",
    "_uuid": "d629ff2d2480ee46fbb7e2d37f6b5fab8052498a"
   },
   "outputs": [
    {
     "name": "stdout",
     "output_type": "stream",
     "text": [
      "Train data set count:  3662\n"
     ]
    }
   ],
   "source": [
    "train_file='../input/aptos2019-blindness-detection/train.csv'\n",
    "df=pd.read_csv(train_file)\n",
    "cat_cnt=df['diagnosis'].value_counts().sort_index()\n",
    "train_image_count=np.sum(cat_cnt)\n",
    "print(\"Train data set count: \", train_image_count)"
   ]
  },
  {
   "cell_type": "code",
   "execution_count": 3,
   "metadata": {},
   "outputs": [
    {
     "name": "stdout",
     "output_type": "stream",
     "text": [
      "['test_images', 'train.csv', 'test.csv', 'train_images', 'sample_submission.csv']\n"
     ]
    }
   ],
   "source": [
    "print(os.listdir(\"../input/aptos2019-blindness-detection\"))"
   ]
  },
  {
   "cell_type": "markdown",
   "metadata": {},
   "source": [
    "## Pre-trained model\n",
    "The base model can be picked from TensorFlow Hub, and can be changed in one line below. A pre-trained model is usually made for a specific input image size, and thankfully we can get that parameter from the hub. Here we pick the NASNet-A model:"
   ]
  },
  {
   "cell_type": "code",
   "execution_count": 4,
   "metadata": {},
   "outputs": [
    {
     "name": "stdout",
     "output_type": "stream",
     "text": [
      "Expected input size for nasnet is: [331, 331]\n"
     ]
    }
   ],
   "source": [
    "USE_INTERNET = False\n",
    "\n",
    "if USE_INTERNET:\n",
    "    %env TFHUB_CACHE_DIR=./tfhub_cache/imagenet/feature_vector\n",
    "    mod_link=\"https://tfhub.dev/google/imagenet/nasnet_large/feature_vector/3\"\n",
    "    mod_name=mod_link.split('imagenet/')[1].split('/')[0]\n",
    "    input_img_size = hub.get_expected_image_size(hub.Module(mod_link))\n",
    "else:\n",
    "    mod_link=\"../input/tfhub-cache/nasnet_large/nasnet_large\"\n",
    "    mod_name='nasnet'\n",
    "    input_img_size = [331, 331]\n",
    "\n",
    "print(\"Expected input size for {} is:\".format(mod_name), input_img_size)"
   ]
  },
  {
   "cell_type": "markdown",
   "metadata": {},
   "source": [
    "The data set is small (and heavily skewed), and the pre-trained model has never seen retina photos before - what could possibly go wrong? Let's find out..."
   ]
  },
  {
   "cell_type": "markdown",
   "metadata": {},
   "source": [
    "## Input function\n",
    "First step is to make an input function that will serve the model with data (TensorFlow dataset). Preprocessing steps are collected in the `_preproc_image()` function that is common for TRAIN, EVAL and PREDICT steps."
   ]
  },
  {
   "cell_type": "code",
   "execution_count": 5,
   "metadata": {},
   "outputs": [],
   "source": [
    "def _preproc_image(file, img_size):\n",
    "    image = tf.read_file(file)\n",
    "    image = tf.image.decode_jpeg(image, channels=3)\n",
    "    image = tf.image.resize(image, img_size)\n",
    "    image /= 255.0  # normalize to [0,1] range\n",
    "    return image"
   ]
  },
  {
   "cell_type": "markdown",
   "metadata": {},
   "source": [
    "The input function below is used for TRAIN and EVAL. The AUTOTUNE option is used to let TensorFlow use available compute resources effectively. The images in this data set are generally large, and thus the preprocessing step could be the bottleneck rather than train step. The image files are shuffle and split into TRAIN and EVAL. Measures are taken here to ensure even distribution of the different categories in each mini-batch. "
   ]
  },
  {
   "cell_type": "code",
   "execution_count": 6,
   "metadata": {},
   "outputs": [],
   "source": [
    "SPLIT=0.804 # train/eval\n",
    "AUTOTUNE = tf.data.experimental.AUTOTUNE\n",
    "\n",
    "def imgs_input_fn(filename, batch_size=32, mode = tf.estimator.ModeKeys.TRAIN, total_images=1000, img_size=[200,200]):\n",
    "\n",
    "    def _agument_image(image):\n",
    "        image = tf.image.random_brightness(image, max_delta=0.2)\n",
    "        image = tf.image.random_contrast(image, 0.8, 1.2)\n",
    "        image = tf.image.random_flip_left_right(image)        \n",
    "        return image\n",
    "    \n",
    "    def _proc_image(file, label=None):\n",
    "        image = _preproc_image(tf.strings.join([tf.strings.join([\"../input/aptos2019-blindness-detection/train_images\",file], \"/\"), \"png\"], \".\"),\n",
    "                              img_size)\n",
    "        # Images is agumented in the TRAIN phase only\n",
    "        if mode == tf.estimator.ModeKeys.TRAIN:\n",
    "            image = _agument_image(image)\n",
    "        return { 'image': image}, label\n",
    "     \n",
    "    dataset_raw = tf.data.experimental.CsvDataset(filename, [tf.string, tf.string], header=True)\n",
    "    dataset_raw = dataset_raw.shuffle(total_images, seed=1)\n",
    "    train_cnt = int(SPLIT*total_images)\n",
    "    if mode == tf.estimator.ModeKeys.TRAIN:\n",
    "        dataset_raw = dataset_raw.take(train_cnt)\n",
    "        d0 = dataset_raw.filter(lambda file, label: tf.math.equal(label, '0')).repeat()\n",
    "        d1 = dataset_raw.filter(lambda file, label: tf.math.equal(label, '1')).repeat()\n",
    "        d2 = dataset_raw.filter(lambda file, label: tf.math.equal(label, '2')).repeat()\n",
    "        d3 = dataset_raw.filter(lambda file, label: tf.math.equal(label, '3')).repeat()\n",
    "        d4 = dataset_raw.filter(lambda file, label: tf.math.equal(label, '4')).repeat()\n",
    "        dataset = tf.data.experimental.sample_from_datasets([d0, d1, d2, d3, d4])\n",
    "    elif mode == tf.estimator.ModeKeys.EVAL:\n",
    "        dataset = dataset_raw.skip(train_cnt)\n",
    "        \n",
    "    dataset = dataset.map(_proc_image, num_parallel_calls=AUTOTUNE)\n",
    "    dataset = dataset.batch(batch_size).prefetch(buffer_size=AUTOTUNE)\n",
    "    return dataset"
   ]
  },
  {
   "cell_type": "markdown",
   "metadata": {},
   "source": [
    "## Define model configuration\n",
    "Models are saved into separate `models` directories - useful when testing and comparing different pre-trained models."
   ]
  },
  {
   "cell_type": "code",
   "execution_count": 7,
   "metadata": {},
   "outputs": [
    {
     "name": "stdout",
     "output_type": "stream",
     "text": [
      "model_dir:  /kaggle/working/./models/nasnet\n"
     ]
    }
   ],
   "source": [
    "model_dir = os.path.join(os.getcwd(), \"./models/{}\").format(mod_name)\n",
    "os.makedirs(model_dir, exist_ok=True)\n",
    "#%load_ext tensorboard\n",
    "#%tensorboard --logdir {model_dir} # can access from http://localhost:6006\n",
    "print(\"model_dir: \",model_dir)\n",
    "config = tf.estimator.RunConfig(\n",
    "    model_dir=model_dir,\n",
    "    save_summary_steps=100,\n",
    "    save_checkpoints_steps=100,\n",
    "    keep_checkpoint_max=2,\n",
    "    log_step_count_steps=10)"
   ]
  },
  {
   "cell_type": "markdown",
   "metadata": {},
   "source": [
    "## Define model function\n",
    "The pre-trained model is used directly, with just a softmax layer with 5 classes on top. Additionally, the multi_class_head function is used that takes care of some details for us. The loss function it uses by default is `sparse_softmax_cross_entropy` loss. There are many useful discussions on using transfer learning for image classification, [for example this one](https://towardsdatascience.com/transfer-learning-from-pre-trained-models-f2393f124751)"
   ]
  },
  {
   "cell_type": "code",
   "execution_count": 8,
   "metadata": {},
   "outputs": [],
   "source": [
    "NUM_CLASSES = 5\n",
    "\n",
    "def model_fn(features, labels, mode, params):\n",
    "    module = hub.Module(mod_link, trainable=False, name=mod_name)\n",
    "    feature_vec = module(features['image'])\n",
    "    #dropout = tf.layers.dropout(inputs=feature_vec, rate=0.1, training=mode == tf.estimator.ModeKeys.TRAIN)\n",
    "    logits = tf.layers.Dense(NUM_CLASSES)(feature_vec)\n",
    "    head = tf.contrib.estimator.multi_class_head(n_classes=NUM_CLASSES, label_vocabulary=['0','1','2','3','4'])\n",
    "    optimizer = tf.train.AdamOptimizer(learning_rate=0.003)\n",
    "    return head.create_estimator_spec(\n",
    "        features, mode, logits, labels, optimizer=optimizer\n",
    "    )"
   ]
  },
  {
   "cell_type": "markdown",
   "metadata": {},
   "source": [
    "## Setup the Estimator\n",
    "The last thing remaining is to setup the estimator and then run training. The model is saved automatically in the model directory defined above."
   ]
  },
  {
   "cell_type": "code",
   "execution_count": 9,
   "metadata": {},
   "outputs": [
    {
     "data": {
      "text/plain": [
       "({'accuracy': 0.80083567,\n",
       "  'average_loss': 0.5141071,\n",
       "  'loss': 0.5134689,\n",
       "  'global_step': 1250},\n",
       " [])"
      ]
     },
     "execution_count": 9,
     "metadata": {},
     "output_type": "execute_result"
    }
   ],
   "source": [
    "BATCH_SIZE = 40\n",
    "MAX_STEPS = 1250\n",
    "\n",
    "train_spec = tf.estimator.TrainSpec(input_fn=lambda: imgs_input_fn(train_file, \n",
    "                                                                   batch_size=BATCH_SIZE,\n",
    "                                                                   mode = tf.estimator.ModeKeys.TRAIN, \n",
    "                                                                   total_images=train_image_count,\n",
    "                                                                   img_size=input_img_size),\n",
    "                                   max_steps=MAX_STEPS)\n",
    "eval_spec = tf.estimator.EvalSpec(input_fn=lambda: imgs_input_fn(train_file, \n",
    "                                                                   batch_size=BATCH_SIZE,\n",
    "                                                                   mode = tf.estimator.ModeKeys.EVAL, \n",
    "                                                                   total_images=train_image_count,\n",
    "                                                                   img_size=input_img_size))\n",
    "classifier = tf.estimator.Estimator(\n",
    "        model_fn=model_fn,\n",
    "        model_dir=model_dir,\n",
    "        config=config,\n",
    "        params=[]\n",
    "    )\n",
    "\n",
    "tf.logging.set_verbosity(tf.logging.INFO)\n",
    "tf.estimator.train_and_evaluate(classifier, train_spec, eval_spec)"
   ]
  },
  {
   "cell_type": "markdown",
   "metadata": {},
   "source": [
    "# Making predictions\n",
    "The test images for prediction is located in the `test_images` directory, and we simply make a list of all the files."
   ]
  },
  {
   "cell_type": "code",
   "execution_count": 10,
   "metadata": {},
   "outputs": [],
   "source": [
    "import pathlib\n",
    "import glob\n",
    "test_set = [str(path) for path in list(pathlib.Path('../input/aptos2019-blindness-detection/test_images/').glob('*.png'))]"
   ]
  },
  {
   "cell_type": "markdown",
   "metadata": {},
   "source": [
    "## Predict input function\n",
    "To prevent cluttering up the input function used for training, a separate input function is defined for the predict step. "
   ]
  },
  {
   "cell_type": "code",
   "execution_count": 11,
   "metadata": {},
   "outputs": [],
   "source": [
    "def pred_input_fn(filelist, batch_size=32, pred_images=100, img_size=[200,200]):\n",
    "    \n",
    "    def _proc_image(file):\n",
    "        image = _preproc_image(file, img_size)\n",
    "        return { 'image': image}\n",
    "     \n",
    "    dataset = tf.data.Dataset.from_tensor_slices(filelist)  \n",
    "    dataset = dataset.take(pred_images)\n",
    "    dataset = dataset.map(_proc_image, num_parallel_calls=AUTOTUNE)\n",
    "    dataset = dataset.batch(batch_size).prefetch(buffer_size=AUTOTUNE)\n",
    "    return dataset"
   ]
  },
  {
   "cell_type": "markdown",
   "metadata": {},
   "source": [
    "## Predict\n",
    "Predictions is then just a matter of calling the .predict method."
   ]
  },
  {
   "cell_type": "code",
   "execution_count": 12,
   "metadata": {},
   "outputs": [],
   "source": [
    "predictions = classifier.predict(input_fn=lambda: pred_input_fn(test_set, \n",
    "                                                                batch_size=32,\n",
    "                                                                pred_images=len(test_set),\n",
    "                                                                img_size=input_img_size))"
   ]
  },
  {
   "cell_type": "markdown",
   "metadata": {},
   "source": [
    "NOTE! Nothing happens after the above line - need to iterate through `predictions` to get it going.\n",
    "Each prediction will be a dict with this format:\n",
    "\n",
    "`{'logits': array([ 0.5168798,  1.1608064,  3.1475224, -5.6981955,  0.5543511], dtype=float32), \n",
    "  'probabilities': array([5.6095276e-02, 1.0680217e-01, 7.7875328e-01, 1.1213811e-04, 5.8237117e-02], dtype=float32), \n",
    "  'class_ids': array([2], dtype=int64), \n",
    "  'classes': array([b'2'], dtype=object), \n",
    "  'all_class_ids': array([0, 1, 2, 3, 4]), \n",
    "  'all_classes': array([b'0', b'1', b'2', b'3', b'4'], dtype=object)}`\n",
    "  \n",
    "The payload we are interested in can be found under `class_ids`. Let's create a Pandas dataframe while iterating through the predictions:"
   ]
  },
  {
   "cell_type": "code",
   "execution_count": 13,
   "metadata": {},
   "outputs": [],
   "source": [
    "fl=test_set.copy()\n",
    "df=pd.DataFrame([(fl.pop(0).split(\"test_images/\")[1].split(\".\")[0], \n",
    "                p['class_ids'][0], p['probabilities'][p['class_ids'][0]]) for p in predictions], \n",
    "                columns=['id_code', 'diagnosis', 'probability'])"
   ]
  },
  {
   "cell_type": "markdown",
   "metadata": {},
   "source": [
    "Take a look at the first few predictions. The probability of each prediction is also included here for information."
   ]
  },
  {
   "cell_type": "code",
   "execution_count": 14,
   "metadata": {},
   "outputs": [
    {
     "data": {
      "text/html": [
       "<div>\n",
       "<style scoped>\n",
       "    .dataframe tbody tr th:only-of-type {\n",
       "        vertical-align: middle;\n",
       "    }\n",
       "\n",
       "    .dataframe tbody tr th {\n",
       "        vertical-align: top;\n",
       "    }\n",
       "\n",
       "    .dataframe thead th {\n",
       "        text-align: right;\n",
       "    }\n",
       "</style>\n",
       "<table border=\"1\" class=\"dataframe\">\n",
       "  <thead>\n",
       "    <tr style=\"text-align: right;\">\n",
       "      <th></th>\n",
       "      <th>id_code</th>\n",
       "      <th>diagnosis</th>\n",
       "      <th>probability</th>\n",
       "    </tr>\n",
       "  </thead>\n",
       "  <tbody>\n",
       "    <tr>\n",
       "      <th>0</th>\n",
       "      <td>8bbef4ac9702</td>\n",
       "      <td>3</td>\n",
       "      <td>0.726064</td>\n",
       "    </tr>\n",
       "    <tr>\n",
       "      <th>1</th>\n",
       "      <td>8b83f4b2d1a9</td>\n",
       "      <td>3</td>\n",
       "      <td>0.418674</td>\n",
       "    </tr>\n",
       "    <tr>\n",
       "      <th>2</th>\n",
       "      <td>352fe3e5b3fe</td>\n",
       "      <td>1</td>\n",
       "      <td>0.505660</td>\n",
       "    </tr>\n",
       "    <tr>\n",
       "      <th>3</th>\n",
       "      <td>aa2c125a8ab8</td>\n",
       "      <td>2</td>\n",
       "      <td>0.550215</td>\n",
       "    </tr>\n",
       "    <tr>\n",
       "      <th>4</th>\n",
       "      <td>c370a38c855e</td>\n",
       "      <td>2</td>\n",
       "      <td>0.709374</td>\n",
       "    </tr>\n",
       "  </tbody>\n",
       "</table>\n",
       "</div>"
      ],
      "text/plain": [
       "        id_code  diagnosis  probability\n",
       "0  8bbef4ac9702          3     0.726064\n",
       "1  8b83f4b2d1a9          3     0.418674\n",
       "2  352fe3e5b3fe          1     0.505660\n",
       "3  aa2c125a8ab8          2     0.550215\n",
       "4  c370a38c855e          2     0.709374"
      ]
     },
     "execution_count": 14,
     "metadata": {},
     "output_type": "execute_result"
    }
   ],
   "source": [
    "df.head(5)"
   ]
  },
  {
   "cell_type": "markdown",
   "metadata": {},
   "source": [
    "Also look at predictions stats:"
   ]
  },
  {
   "cell_type": "code",
   "execution_count": 15,
   "metadata": {},
   "outputs": [
    {
     "data": {
      "text/html": [
       "<div>\n",
       "<style scoped>\n",
       "    .dataframe tbody tr th:only-of-type {\n",
       "        vertical-align: middle;\n",
       "    }\n",
       "\n",
       "    .dataframe tbody tr th {\n",
       "        vertical-align: top;\n",
       "    }\n",
       "\n",
       "    .dataframe thead th {\n",
       "        text-align: right;\n",
       "    }\n",
       "</style>\n",
       "<table border=\"1\" class=\"dataframe\">\n",
       "  <thead>\n",
       "    <tr style=\"text-align: right;\">\n",
       "      <th></th>\n",
       "      <th>diagnosis</th>\n",
       "      <th>probability</th>\n",
       "    </tr>\n",
       "  </thead>\n",
       "  <tbody>\n",
       "    <tr>\n",
       "      <th>count</th>\n",
       "      <td>1928.000000</td>\n",
       "      <td>1928.000000</td>\n",
       "    </tr>\n",
       "    <tr>\n",
       "      <th>mean</th>\n",
       "      <td>2.103734</td>\n",
       "      <td>0.661171</td>\n",
       "    </tr>\n",
       "    <tr>\n",
       "      <th>std</th>\n",
       "      <td>1.204828</td>\n",
       "      <td>0.193928</td>\n",
       "    </tr>\n",
       "    <tr>\n",
       "      <th>min</th>\n",
       "      <td>0.000000</td>\n",
       "      <td>0.267466</td>\n",
       "    </tr>\n",
       "    <tr>\n",
       "      <th>25%</th>\n",
       "      <td>1.000000</td>\n",
       "      <td>0.499429</td>\n",
       "    </tr>\n",
       "    <tr>\n",
       "      <th>50%</th>\n",
       "      <td>2.000000</td>\n",
       "      <td>0.644425</td>\n",
       "    </tr>\n",
       "    <tr>\n",
       "      <th>75%</th>\n",
       "      <td>3.000000</td>\n",
       "      <td>0.824917</td>\n",
       "    </tr>\n",
       "    <tr>\n",
       "      <th>max</th>\n",
       "      <td>4.000000</td>\n",
       "      <td>0.999599</td>\n",
       "    </tr>\n",
       "  </tbody>\n",
       "</table>\n",
       "</div>"
      ],
      "text/plain": [
       "         diagnosis  probability\n",
       "count  1928.000000  1928.000000\n",
       "mean      2.103734     0.661171\n",
       "std       1.204828     0.193928\n",
       "min       0.000000     0.267466\n",
       "25%       1.000000     0.499429\n",
       "50%       2.000000     0.644425\n",
       "75%       3.000000     0.824917\n",
       "max       4.000000     0.999599"
      ]
     },
     "execution_count": 15,
     "metadata": {},
     "output_type": "execute_result"
    }
   ],
   "source": [
    "df.describe()"
   ]
  },
  {
   "cell_type": "markdown",
   "metadata": {},
   "source": [
    "## Submit\n",
    "Finally, the result is submitted to a .csv file:"
   ]
  },
  {
   "cell_type": "code",
   "execution_count": 16,
   "metadata": {},
   "outputs": [],
   "source": [
    "df.to_csv('submission.csv', columns=['id_code', 'diagnosis'], index=None)"
   ]
  },
  {
   "cell_type": "markdown",
   "metadata": {},
   "source": [
    "## Final comments\n",
    "This kernel scored ~0.57. Some serious feature engineering is needed to properly adapt and train this model. The large image size in the data set really puts the CPU resources under pressure. On a desktop (i7-3930K + RTX2070), the whole notebook runs in ~20min. On Kaggle, the runtime is ~75min. Let's take a look at the predictions with a graphical view:"
   ]
  },
  {
   "cell_type": "code",
   "execution_count": 17,
   "metadata": {},
   "outputs": [
    {
     "data": {
      "image/png": "[encoded data removed]",
      "text/plain": [
       "<Figure size 360x360 with 1 Axes>"
      ]
     },
     "metadata": {},
     "output_type": "display_data"
    }
   ],
   "source": [
    "import seaborn as sns\n",
    "sns.set()\n",
    "cp = sns.catplot(x=\"diagnosis\", y=\"probability\", kind=\"violin\", inner=None, data=df, palette=sns.color_palette(\"RdBu_r\", 5))\n",
    "sns.swarmplot(x=\"diagnosis\", y=\"probability\", color=\"k\", size=3, data=df, ax=cp.ax);"
   ]
  },
  {
   "cell_type": "code",
   "execution_count": null,
   "metadata": {},
   "outputs": [],
   "source": []
  }
 ],
 "metadata": {
  "kernelspec": {
   "display_name": "Python 3",
   "language": "python",
   "name": "python3"
  },
  "language_info": {
   "codemirror_mode": {
    "name": "ipython",
    "version": 3
   },
   "file_extension": ".py",
   "mimetype": "text/x-python",
   "name": "python",
   "nbconvert_exporter": "python",
   "pygments_lexer": "ipython3",
   "version": "3.7.3"
  }
 },
 "nbformat": 4,
 "nbformat_minor": 1
}
